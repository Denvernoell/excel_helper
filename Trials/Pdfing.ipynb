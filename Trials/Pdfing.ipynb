{
 "metadata": {
  "language_info": {
   "codemirror_mode": {
    "name": "ipython",
    "version": 3
   },
   "file_extension": ".py",
   "mimetype": "text/x-python",
   "name": "python",
   "nbconvert_exporter": "python",
   "pygments_lexer": "ipython3",
   "version": "3.8.3"
  },
  "orig_nbformat": 2,
  "kernelspec": {
   "name": "python3",
   "display_name": "Python 3.8.3 64-bit ('base': conda)"
  },
  "interpreter": {
   "hash": "3067a4e9b670b2f5e73a74e9a2d9c6a2f3ee8374356055677ff1895112a0b210"
  }
 },
 "nbformat": 4,
 "nbformat_minor": 2,
 "cells": [
  {
   "cell_type": "markdown",
   "source": [
    "# Move Current PDF to OldPdfs"
   ],
   "metadata": {}
  },
  {
   "cell_type": "code",
   "execution_count": 15,
   "source": [
    "from pathlib import Path\r\n",
    "import os\r\n",
    "\r\n",
    "def create_room(file_path):\r\n",
    "    \"\"\"Takes file path and moves it to OldPdfs in order to create room to make another file with the same name\"\"\"\r\n",
    "\r\n",
    "    p = Path(file_path)\r\n",
    "    try:\r\n",
    "        os.makedirs(Path(f\"{p.parent}/OldPdfs\"))\r\n",
    "    except:\r\n",
    "        pass\r\n",
    "    \r\n",
    "    num_list = [\"1st\",\"2nd\",\"3rd\"] + [f\"{i}th\" for i in range(4,100)]\r\n",
    "    for i in num_list:\r\n",
    "        try:\r\n",
    "            replacement_path = (Path(f\"{p.parent}\\OldPdfs\\{i}{p.name}\"))\r\n",
    "            os.rename(p, replacement_path)\r\n",
    "            break\r\n",
    "        except:\r\n",
    "            continue\r\n",
    "\r\n",
    "# create_room(\"P:\\Support\\Admin\\Timesheets\\Denver Noell_MISC\\work_scripts\\Akel_helper\\Replacent_alternatives_071921.pdf\")"
   ],
   "outputs": [],
   "metadata": {}
  },
  {
   "cell_type": "markdown",
   "source": [
    "# Get PDF from OldPdfs and create sorted Pdf with old name"
   ],
   "metadata": {}
  },
  {
   "cell_type": "code",
   "execution_count": 75,
   "source": [
    "from PyPDF2 import PdfFileReader,PdfFileWriter\r\n",
    "pdf_writer = PdfFileWriter()\r\n",
    "\r\n",
    "new = [3,6,9,1,4,7,2,5,8]\r\n",
    "source = PdfFileReader(str(replacement_path))\r\n",
    "for new_page in new:\r\n",
    "    for page in range(source.getNumPages()):\r\n",
    "        page += 1\r\n",
    "        if page == new_page:\r\n",
    "            pdf_writer.addPage(source.getPage(page - 1))\r\n",
    "            break\r\n",
    "\r\n",
    "with open(p,'wb') as out:\r\n",
    "    pdf_writer.write(out)"
   ],
   "outputs": [],
   "metadata": {}
  },
  {
   "cell_type": "code",
   "execution_count": null,
   "source": [],
   "outputs": [],
   "metadata": {}
  }
 ]
}