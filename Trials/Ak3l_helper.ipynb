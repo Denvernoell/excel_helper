{
 "cells": [
  {
   "cell_type": "code",
   "execution_count": 2,
   "source": [
    "import xlwings as xw\r\n",
    "wb = xw.books.active\r\n",
    "sht = wb.sheets.active\r\n",
    "rng = wb.selection"
   ],
   "outputs": [],
   "metadata": {}
  },
  {
   "cell_type": "code",
   "execution_count": 3,
   "source": [
    "rng"
   ],
   "outputs": [
    {
     "output_type": "execute_result",
     "data": {
      "text/plain": [
       "<Range [YK_Sewer_Tables_060921.xlsx]Table 7.3 Sche of Imp.!$T$7>"
      ]
     },
     "metadata": {},
     "execution_count": 3
    }
   ],
   "metadata": {}
  },
  {
   "cell_type": "code",
   "execution_count": 7,
   "source": [
    "\r\n",
    "def borderer(rng, thickness='thick', placement='all', color='black'):\r\n",
    "    \"\"\"Adds border to selection\"\"\"\r\n",
    "    if thickness == 'thin':\r\n",
    "        weight = 2\r\n",
    "\r\n",
    "    if thickness == 'thick':\r\n",
    "        weight = 3\r\n",
    "\r\n",
    "    # 7 through 13 == xlEdgeTop,xlEdgeBottom,xlEdgeRight,xlEdgeLeft,xlInsideHorizontal,xlInsideVertical\r\n",
    "    borders = {\r\n",
    "        'all': '',\r\n",
    "        'top': 7,\r\n",
    "        'bottom': 8,\r\n",
    "        'right': 9,\r\n",
    "        'left': 10,\r\n",
    "    }\r\n",
    "    if placement == 'all':\r\n",
    "        for i in range(7, 11):\r\n",
    "            # rng.api.Borders(i).Weight=weight\r\n",
    "            # sht.range(rng.address).api.Borders(i).Weight = weight\r\n",
    "            rng.api.Borders(i).Weight = weight\r\n",
    "    else:\r\n",
    "        # sht.range(rng.address).api.Borders(borders[placement]).Weight = weight\r\n",
    "        rng.api.Borders(borders[placement]).Weight = weight\r\n",
    "\r\n",
    "    print(rng.api.Interior.Color)\r\n",
    "\r\n",
    "\r\n",
    "borderer(rng, thickness='thin', placement='top')\r\n",
    "borderer(rng, thickness='thin', placement='bottom')\r\n"
   ],
   "outputs": [
    {
     "output_type": "stream",
     "name": "stdout",
     "text": [
      "12566463.0\n",
      "12566463.0\n"
     ]
    }
   ],
   "metadata": {}
  },
  {
   "cell_type": "code",
   "execution_count": 4,
   "source": [
    "import colors\r\n",
    "my_color = colors.akel_rgb('Blue1')\r\n",
    "my_single = colors.akel_single('Blue1')"
   ],
   "outputs": [],
   "metadata": {}
  },
  {
   "cell_type": "code",
   "execution_count": 5,
   "source": [
    "rng.api.Borders.Color = my_single"
   ],
   "outputs": [],
   "metadata": {}
  },
  {
   "cell_type": "code",
   "execution_count": 6,
   "source": [
    "import pdfing\r\n",
    "pdfing.export_pdf(wb,quantity='all')"
   ],
   "outputs": [],
   "metadata": {}
  }
 ],
 "metadata": {
  "orig_nbformat": 4,
  "language_info": {
   "name": "python",
   "version": "3.8.3",
   "mimetype": "text/x-python",
   "codemirror_mode": {
    "name": "ipython",
    "version": 3
   },
   "pygments_lexer": "ipython3",
   "nbconvert_exporter": "python",
   "file_extension": ".py"
  },
  "kernelspec": {
   "name": "python3",
   "display_name": "Python 3.8.3 64-bit ('base': conda)"
  },
  "interpreter": {
   "hash": "3067a4e9b670b2f5e73a74e9a2d9c6a2f3ee8374356055677ff1895112a0b210"
  }
 },
 "nbformat": 4,
 "nbformat_minor": 2
}