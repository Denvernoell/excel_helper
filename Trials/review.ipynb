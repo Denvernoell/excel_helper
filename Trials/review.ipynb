{
 "cells": [
  {
   "cell_type": "code",
   "execution_count": 9,
   "source": [
    "import xlwings as xw\r\n",
    "\r\n",
    "wb = xw.books.active\r\n",
    "shts = [s for s in wb.sheets]\r\n",
    "# sht_colors = [s.color for s in wb.sheets]\r\n",
    "\r\n",
    "\r\n",
    "# print(sht_colors)\r\n"
   ],
   "outputs": [],
   "metadata": {}
  },
  {
   "cell_type": "code",
   "execution_count": 15,
   "source": [
    "sht = shts[0]\r\n",
    "sht.api.Tab.Color"
   ],
   "outputs": [
    {
     "output_type": "execute_result",
     "data": {
      "text/plain": [
       "3421846"
      ]
     },
     "metadata": {},
     "execution_count": 15
    }
   ],
   "metadata": {}
  }
 ],
 "metadata": {
  "orig_nbformat": 4,
  "language_info": {
   "name": "python",
   "version": "3.8.3",
   "mimetype": "text/x-python",
   "codemirror_mode": {
    "name": "ipython",
    "version": 3
   },
   "pygments_lexer": "ipython3",
   "nbconvert_exporter": "python",
   "file_extension": ".py"
  },
  "kernelspec": {
   "name": "python3",
   "display_name": "Python 3.8.3 64-bit ('base': conda)"
  },
  "interpreter": {
   "hash": "3067a4e9b670b2f5e73a74e9a2d9c6a2f3ee8374356055677ff1895112a0b210"
  }
 },
 "nbformat": 4,
 "nbformat_minor": 2
}