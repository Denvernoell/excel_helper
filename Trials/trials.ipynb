{
 "cells": [
  {
   "cell_type": "code",
   "execution_count": 2,
   "source": [
    "import os\r\n",
    "import subprocess\r\n",
    "file = r\"P:\\PROJECTS\\Gilroy\\19560 - Infrastructure Master Plans\\Sewer\\Data Analysis\\Table 8.4 CIP_CA (2)_080421.pdf\"\r\n",
    "subprocess.Popen([file],shell=True)"
   ],
   "outputs": [
    {
     "output_type": "execute_result",
     "data": {
      "text/plain": [
       "<subprocess.Popen at 0x2b7277c7be0>"
      ]
     },
     "metadata": {},
     "execution_count": 2
    }
   ],
   "metadata": {}
  },
  {
   "cell_type": "code",
   "execution_count": 3,
   "source": [
    "import re\r\n",
    "wb_name = \"Gilroy_SSMP_ReportTables_043021.xlsx\"\r\n",
    "re.sub(r'_\\d{6}', '', wb_name)"
   ],
   "outputs": [
    {
     "output_type": "execute_result",
     "data": {
      "text/plain": [
       "'Gilroy_SSMP_ReportTables.xlsx'"
      ]
     },
     "metadata": {},
     "execution_count": 3
    }
   ],
   "metadata": {}
  },
  {
   "cell_type": "code",
   "execution_count": 3,
   "source": [
    "import xlwings as xw\r\n",
    "from pathlib import Path\r\n",
    "app = xw.apps.active\r\n",
    "start_path = Path(app.startup_path)\r\n",
    "print(start_path)"
   ],
   "outputs": [
    {
     "output_type": "stream",
     "name": "stdout",
     "text": [
      "C:\\Users\\dnoell\\AppData\\Roaming\\Microsoft\\Excel\\XLSTART\n"
     ]
    }
   ],
   "metadata": {}
  }
 ],
 "metadata": {
  "orig_nbformat": 4,
  "language_info": {
   "name": "python",
   "version": "3.8.3",
   "mimetype": "text/x-python",
   "codemirror_mode": {
    "name": "ipython",
    "version": 3
   },
   "pygments_lexer": "ipython3",
   "nbconvert_exporter": "python",
   "file_extension": ".py"
  },
  "kernelspec": {
   "name": "python3",
   "display_name": "Python 3.8.3 64-bit ('base': conda)"
  },
  "interpreter": {
   "hash": "3067a4e9b670b2f5e73a74e9a2d9c6a2f3ee8374356055677ff1895112a0b210"
  }
 },
 "nbformat": 4,
 "nbformat_minor": 2
}