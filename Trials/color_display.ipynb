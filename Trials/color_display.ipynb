{
 "cells": [
  {
   "cell_type": "code",
   "execution_count": 1,
   "source": [
    "import xlwings as xw\r\n",
    "import colors"
   ],
   "outputs": [],
   "metadata": {}
  },
  {
   "cell_type": "code",
   "execution_count": 3,
   "source": [
    "wb = xw.books.active\r\n",
    "sht = wb.sheets.active\r\n",
    "rng = wb.selection\r\n",
    "\r\n",
    "i = 0\r\n",
    "for key,value in colors.akel_colors.items():\r\n",
    "\trng.offset(i,0).value = key\r\n",
    "\trng.offset(i,1).color = value\r\n",
    "\ti +=1\r\n",
    "\r\n"
   ],
   "outputs": [],
   "metadata": {}
  },
  {
   "cell_type": "code",
   "execution_count": null,
   "source": [],
   "outputs": [],
   "metadata": {}
  }
 ],
 "metadata": {
  "orig_nbformat": 4,
  "language_info": {
   "name": "python",
   "version": "3.8.3",
   "mimetype": "text/x-python",
   "codemirror_mode": {
    "name": "ipython",
    "version": 3
   },
   "pygments_lexer": "ipython3",
   "nbconvert_exporter": "python",
   "file_extension": ".py"
  },
  "kernelspec": {
   "name": "python3",
   "display_name": "Python 3.8.3 64-bit ('base': conda)"
  },
  "interpreter": {
   "hash": "3067a4e9b670b2f5e73a74e9a2d9c6a2f3ee8374356055677ff1895112a0b210"
  }
 },
 "nbformat": 4,
 "nbformat_minor": 2
}