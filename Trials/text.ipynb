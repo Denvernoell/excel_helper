{
 "cells": [
  {
   "cell_type": "code",
   "execution_count": 1,
   "source": [
    "import xlwings as xw\r\n",
    "wb = xw.books.active\r\n",
    "sht = wb.sheets.active\r\n",
    "rng = wb.selection\r\n",
    "\r\n",
    "def superscripter(i):\r\n",
    "\t# print([sht.range(r.get_address()) for r in rng])\r\n",
    "\t# for r in rng:\r\n",
    "\t# \tprint(r)\t\r\n",
    "\te = len(rng.value) - i\r\n",
    "\trng.characters[e:].font.api.Superscript = True\r\n",
    "\r\n",
    "# superscripter(1)\r\n"
   ],
   "outputs": [],
   "metadata": {}
  },
  {
   "cell_type": "code",
   "execution_count": 7,
   "source": [
    "print(xw.App().screen_updating)\r\n",
    "\r\n",
    "xw.App().screen_updating = False\r\n",
    "sht.range('Y26').value = 'hello'\r\n",
    "xw.App().screen_updating = True\r\n",
    "print(xw.App().screen_updating)"
   ],
   "outputs": [
    {
     "output_type": "stream",
     "name": "stdout",
     "text": [
      "True\n",
      "True\n"
     ]
    }
   ],
   "metadata": {}
  }
 ],
 "metadata": {
  "orig_nbformat": 4,
  "language_info": {
   "name": "python",
   "version": "3.8.3",
   "mimetype": "text/x-python",
   "codemirror_mode": {
    "name": "ipython",
    "version": 3
   },
   "pygments_lexer": "ipython3",
   "nbconvert_exporter": "python",
   "file_extension": ".py"
  },
  "kernelspec": {
   "name": "python3",
   "display_name": "Python 3.8.3 64-bit ('base': conda)"
  },
  "interpreter": {
   "hash": "3067a4e9b670b2f5e73a74e9a2d9c6a2f3ee8374356055677ff1895112a0b210"
  }
 },
 "nbformat": 4,
 "nbformat_minor": 2
}