{
 "cells": [
  {
   "cell_type": "code",
   "execution_count": 1,
   "source": [
    "import pyperclip\r\n",
    "import xlwings as xw\r\n",
    "from pathlib import Path\r\n",
    "app = xw.apps.active\r\n",
    "wb = app.books.active\r\n",
    "sht = wb.sheets.active\r\n",
    "ps = sht.api.PageSetup"
   ],
   "outputs": [],
   "metadata": {}
  },
  {
   "cell_type": "code",
   "execution_count": 2,
   "source": [
    "import colors\r\n",
    "\r\n",
    "rng = wb.selection\r\n",
    "print(colors.cell_color(rng))"
   ],
   "outputs": [
    {
     "output_type": "stream",
     "name": "stdout",
     "text": [
      "None\n"
     ]
    }
   ],
   "metadata": {}
  },
  {
   "cell_type": "code",
   "execution_count": 3,
   "source": [
    "import borders\r\n",
    "rng = wb.selection\r\n",
    "\r\n",
    "my_color = 'Grey3'\r\n",
    "\r\n",
    "borders.borderer(rng, thickness='thin', placement='top',color=my_color)\r\n",
    "borders.borderer(rng, thickness='thin', placement='bottom',color=my_color)\r\n",
    "# rng.api.Borders(4).Weight = 3\r\n"
   ],
   "outputs": [],
   "metadata": {}
  },
  {
   "cell_type": "code",
   "execution_count": 13,
   "source": [
    "from datetime import date, timedelta, datetime\r\n",
    "\r\n",
    "start = date(2001,5,13)\r\n",
    "end = date.today()\r\n",
    "delta = end - start\r\n",
    "delta\r\n",
    "7396 / 365\r\n"
   ],
   "outputs": [
    {
     "output_type": "execute_result",
     "data": {
      "text/plain": [
       "20.263013698630136"
      ]
     },
     "metadata": {},
     "execution_count": 13
    }
   ],
   "metadata": {}
  }
 ],
 "metadata": {
  "orig_nbformat": 4,
  "language_info": {
   "name": "python",
   "version": "3.8.3",
   "mimetype": "text/x-python",
   "codemirror_mode": {
    "name": "ipython",
    "version": 3
   },
   "pygments_lexer": "ipython3",
   "nbconvert_exporter": "python",
   "file_extension": ".py"
  },
  "kernelspec": {
   "name": "python3",
   "display_name": "Python 3.8.3 64-bit ('base': conda)"
  },
  "interpreter": {
   "hash": "3067a4e9b670b2f5e73a74e9a2d9c6a2f3ee8374356055677ff1895112a0b210"
  }
 },
 "nbformat": 4,
 "nbformat_minor": 2
}