{
 "cells": [
  {
   "cell_type": "code",
   "execution_count": 4,
   "source": [
    "# !pip install ezsheets\r\n",
    "import ezsheets"
   ],
   "outputs": [],
   "metadata": {}
  },
  {
   "cell_type": "code",
   "execution_count": 6,
   "source": [
    "\r\n",
    "sht = ezsheets.Spreadsheet(\"https://docs.google.com/spreadsheets/d/1-YWLlkGo_anRk-H5XM6j4ZVrQHzfwE-ITMIsArpkn8k/edit#gid=0\")\r\n",
    "print(sht.title)"
   ],
   "outputs": [
    {
     "output_type": "error",
     "ename": "EZSheetsException",
     "evalue": "Can't find credentials file at c:\\Users\\denve\\Google Drive\\Colab Notebooks\\Dominon\\Dominion Game Tracker\\credentials-sheets.json. You can download this file from https://developers.google.com/sheets/api/quickstart/python  and clicking \"Enable the Google Sheets API\". Rename the downloaded file to credentials-sheets.json.",
     "traceback": [
      "\u001b[1;31m---------------------------------------------------------------------------\u001b[0m",
      "\u001b[1;31mEZSheetsException\u001b[0m                         Traceback (most recent call last)",
      "\u001b[1;32m<ipython-input-6-ef8e745b080b>\u001b[0m in \u001b[0;36m<module>\u001b[1;34m\u001b[0m\n\u001b[1;32m----> 1\u001b[1;33m \u001b[0msht\u001b[0m \u001b[1;33m=\u001b[0m \u001b[0mezsheets\u001b[0m\u001b[1;33m.\u001b[0m\u001b[0mSpreadsheet\u001b[0m\u001b[1;33m(\u001b[0m\u001b[1;34m\"https://docs.google.com/spreadsheets/d/1-YWLlkGo_anRk-H5XM6j4ZVrQHzfwE-ITMIsArpkn8k/edit#gid=0\"\u001b[0m\u001b[1;33m)\u001b[0m\u001b[1;33m\u001b[0m\u001b[1;33m\u001b[0m\u001b[0m\n\u001b[0m\u001b[0;32m      2\u001b[0m \u001b[0mprint\u001b[0m\u001b[1;33m(\u001b[0m\u001b[0msht\u001b[0m\u001b[1;33m.\u001b[0m\u001b[0mtitle\u001b[0m\u001b[1;33m)\u001b[0m\u001b[1;33m\u001b[0m\u001b[1;33m\u001b[0m\u001b[0m\n",
      "\u001b[1;32m~\\anaconda3\\lib\\site-packages\\ezsheets\\__init__.py\u001b[0m in \u001b[0;36m__init__\u001b[1;34m(self, spreadsheetId)\u001b[0m\n\u001b[0;32m    181\u001b[0m         \"\"\"\n\u001b[0;32m    182\u001b[0m         \u001b[1;32mif\u001b[0m \u001b[1;32mnot\u001b[0m \u001b[0mIS_INITIALIZED\u001b[0m\u001b[1;33m:\u001b[0m\u001b[1;33m\u001b[0m\u001b[1;33m\u001b[0m\u001b[0m\n\u001b[1;32m--> 183\u001b[1;33m             \u001b[0minit\u001b[0m\u001b[1;33m(\u001b[0m\u001b[1;33m)\u001b[0m  \u001b[1;31m# Initialize this module if not done so already.\u001b[0m\u001b[1;33m\u001b[0m\u001b[1;33m\u001b[0m\u001b[0m\n\u001b[0m\u001b[0;32m    184\u001b[0m \u001b[1;33m\u001b[0m\u001b[0m\n\u001b[0;32m    185\u001b[0m         \u001b[1;32mtry\u001b[0m\u001b[1;33m:\u001b[0m\u001b[1;33m\u001b[0m\u001b[1;33m\u001b[0m\u001b[0m\n",
      "\u001b[1;32m~\\anaconda3\\lib\\site-packages\\ezsheets\\__init__.py\u001b[0m in \u001b[0;36minit\u001b[1;34m(credentialsFile, sheetsTokenFile, driveTokenFile, _raiseException)\u001b[0m\n\u001b[0;32m   1667\u001b[0m     \u001b[1;32mtry\u001b[0m\u001b[1;33m:\u001b[0m\u001b[1;33m\u001b[0m\u001b[1;33m\u001b[0m\u001b[0m\n\u001b[0;32m   1668\u001b[0m         \u001b[1;32mif\u001b[0m \u001b[1;32mnot\u001b[0m \u001b[0mos\u001b[0m\u001b[1;33m.\u001b[0m\u001b[0mpath\u001b[0m\u001b[1;33m.\u001b[0m\u001b[0mexists\u001b[0m\u001b[1;33m(\u001b[0m\u001b[0mcredentialsFile\u001b[0m\u001b[1;33m)\u001b[0m\u001b[1;33m:\u001b[0m\u001b[1;33m\u001b[0m\u001b[1;33m\u001b[0m\u001b[0m\n\u001b[1;32m-> 1669\u001b[1;33m             raise EZSheetsException(\n\u001b[0m\u001b[0;32m   1670\u001b[0m                 \u001b[1;34m'Can\\'t find credentials file at %s. You can download this file from https://developers.google.com/sheets/api/quickstart/python  and clicking \"Enable the Google Sheets API\". Rename the downloaded file to credentials-sheets.json.'\u001b[0m\u001b[1;33m\u001b[0m\u001b[1;33m\u001b[0m\u001b[0m\n\u001b[0;32m   1671\u001b[0m                 \u001b[1;33m%\u001b[0m \u001b[1;33m(\u001b[0m\u001b[0mos\u001b[0m\u001b[1;33m.\u001b[0m\u001b[0mpath\u001b[0m\u001b[1;33m.\u001b[0m\u001b[0mabspath\u001b[0m\u001b[1;33m(\u001b[0m\u001b[0mcredentialsFile\u001b[0m\u001b[1;33m)\u001b[0m\u001b[1;33m)\u001b[0m\u001b[1;33m\u001b[0m\u001b[1;33m\u001b[0m\u001b[0m\n",
      "\u001b[1;31mEZSheetsException\u001b[0m: Can't find credentials file at c:\\Users\\denve\\Google Drive\\Colab Notebooks\\Dominon\\Dominion Game Tracker\\credentials-sheets.json. You can download this file from https://developers.google.com/sheets/api/quickstart/python  and clicking \"Enable the Google Sheets API\". Rename the downloaded file to credentials-sheets.json."
     ]
    }
   ],
   "metadata": {}
  },
  {
   "cell_type": "code",
   "execution_count": null,
   "source": [],
   "outputs": [],
   "metadata": {}
  }
 ],
 "metadata": {
  "orig_nbformat": 4,
  "language_info": {
   "name": "python",
   "version": "3.8.3",
   "mimetype": "text/x-python",
   "codemirror_mode": {
    "name": "ipython",
    "version": 3
   },
   "pygments_lexer": "ipython3",
   "nbconvert_exporter": "python",
   "file_extension": ".py"
  },
  "kernelspec": {
   "name": "python3",
   "display_name": "Python 3.8.3 64-bit ('base': conda)"
  },
  "interpreter": {
   "hash": "6436bbd3a7d17a26d6e6ecd4e9eeaf95b5bf89cd64ac72f36c25e562c9484423"
  }
 },
 "nbformat": 4,
 "nbformat_minor": 2
}